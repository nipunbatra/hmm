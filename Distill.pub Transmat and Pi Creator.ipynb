{
 "cells": [
  {
   "cell_type": "code",
   "execution_count": 1,
   "metadata": {},
   "outputs": [],
   "source": [
    "import os"
   ]
  },
  {
   "cell_type": "code",
   "execution_count": 2,
   "metadata": {},
   "outputs": [],
   "source": [
    "dir_name = 'articles'"
   ]
  },
  {
   "cell_type": "code",
   "execution_count": 114,
   "metadata": {},
   "outputs": [],
   "source": [
    "n_articles = len(os.listdir(dir_name))"
   ]
  },
  {
   "cell_type": "code",
   "execution_count": 115,
   "metadata": {},
   "outputs": [],
   "source": [
    "d={}\n",
    "pi = {}\n",
    "\n",
    "for f in os.listdir(dir_name):\n",
    "    file = open(os.path.join(dir_name,f), encoding='utf-8')\n",
    "    text = file.read()\n",
    "#     text = text.replace(\"\")\n",
    "    text = text.lower().split()  \n",
    "    first_word = text[0]\n",
    "    if first_word in pi:\n",
    "        pi[first_word]+=1\n",
    "    else:\n",
    "        pi[first_word] = 1\n",
    "        \n",
    "    for i in range(len(text)-1):    \n",
    "        pair = (text[i],text[i+1])\n",
    "        if pair in d:\n",
    "            d[pair]+=1\n",
    "        else:\n",
    "            d[pair]=1\n",
    "        "
   ]
  },
  {
   "cell_type": "code",
   "execution_count": 116,
   "metadata": {},
   "outputs": [],
   "source": [
    "words = [pair[0] for pair in d]\n",
    "\n",
    "counter = {}"
   ]
  },
  {
   "cell_type": "code",
   "execution_count": 117,
   "metadata": {},
   "outputs": [],
   "source": [
    "# words"
   ]
  },
  {
   "cell_type": "code",
   "execution_count": 118,
   "metadata": {},
   "outputs": [],
   "source": [
    "new_tuples = []"
   ]
  },
  {
   "cell_type": "code",
   "execution_count": 119,
   "metadata": {},
   "outputs": [],
   "source": [
    "for i in words:\n",
    "    if i in counter:\n",
    "        counter[i]+=1\n",
    "    else:\n",
    "        counter[i]=1"
   ]
  },
  {
   "cell_type": "code",
   "execution_count": 120,
   "metadata": {},
   "outputs": [],
   "source": [
    "unique_words = list(set(words))"
   ]
  },
  {
   "cell_type": "code",
   "execution_count": 121,
   "metadata": {},
   "outputs": [],
   "source": [
    "tuples = [(counter[i],i) for i in unique_words]"
   ]
  },
  {
   "cell_type": "code",
   "execution_count": 122,
   "metadata": {},
   "outputs": [],
   "source": [
    "start = 190\n",
    "end = 210"
   ]
  },
  {
   "cell_type": "code",
   "execution_count": 123,
   "metadata": {},
   "outputs": [],
   "source": [
    "tuples.sort()"
   ]
  },
  {
   "cell_type": "code",
   "execution_count": 124,
   "metadata": {},
   "outputs": [],
   "source": [
    "words = [i for i in tuples if (i[0]>start and i[0]<end)]"
   ]
  },
  {
   "cell_type": "code",
   "execution_count": null,
   "metadata": {},
   "outputs": [],
   "source": []
  },
  {
   "cell_type": "code",
   "execution_count": 125,
   "metadata": {},
   "outputs": [],
   "source": [
    "words = [i[1] for i in words]"
   ]
  },
  {
   "cell_type": "code",
   "execution_count": 126,
   "metadata": {},
   "outputs": [],
   "source": [
    "words = ['lord','tywin','the','great','hound','horse','lannister','queen','king']"
   ]
  },
  {
   "cell_type": "code",
   "execution_count": 127,
   "metadata": {},
   "outputs": [],
   "source": [
    "d_ = {}\n",
    "for i in words:\n",
    "    for j in words:\n",
    "        try:\n",
    "            d_[i,j] = 1 + d[i,j]\n",
    "        except:\n",
    "            d_[i,j] = 1"
   ]
  },
  {
   "cell_type": "code",
   "execution_count": 128,
   "metadata": {},
   "outputs": [],
   "source": [
    "# d_"
   ]
  },
  {
   "cell_type": "code",
   "execution_count": 129,
   "metadata": {},
   "outputs": [],
   "source": [
    "# t = [[d[i],i] for i in d]"
   ]
  },
  {
   "cell_type": "code",
   "execution_count": 130,
   "metadata": {},
   "outputs": [],
   "source": [
    "# t.sort()"
   ]
  },
  {
   "cell_type": "code",
   "execution_count": 131,
   "metadata": {},
   "outputs": [],
   "source": [
    "# t[-300:]"
   ]
  },
  {
   "cell_type": "code",
   "execution_count": 132,
   "metadata": {},
   "outputs": [],
   "source": [
    "counter = {}\n",
    "for i in d_:\n",
    "    k = i[0]\n",
    "    if k in counter:\n",
    "        counter[k]+=d_[i]\n",
    "    else:\n",
    "        counter[k]=d_[i]"
   ]
  },
  {
   "cell_type": "code",
   "execution_count": 133,
   "metadata": {},
   "outputs": [
    {
     "data": {
      "text/plain": [
       "[1, 303, 1, 2, 1, 1, 1, 1, 1]"
      ]
     },
     "execution_count": 133,
     "metadata": {},
     "output_type": "execute_result"
    }
   ],
   "source": [
    "[d_[i] for i  in d_ if i[0]=='lord']"
   ]
  },
  {
   "cell_type": "code",
   "execution_count": 134,
   "metadata": {},
   "outputs": [
    {
     "data": {
      "text/plain": [
       "312"
      ]
     },
     "execution_count": 134,
     "metadata": {},
     "output_type": "execute_result"
    }
   ],
   "source": [
    "counter['lord']"
   ]
  },
  {
   "cell_type": "code",
   "execution_count": 135,
   "metadata": {},
   "outputs": [
    {
     "name": "stdout",
     "output_type": "stream",
     "text": [
      "('lord', 'lord')\n",
      "312\n",
      "1\n",
      "('lord', 'tywin')\n",
      "312\n",
      "303\n",
      "('lord', 'the')\n",
      "312\n",
      "1\n",
      "('lord', 'great')\n",
      "312\n",
      "2\n",
      "('lord', 'hound')\n",
      "312\n",
      "1\n",
      "('lord', 'horse')\n",
      "312\n",
      "1\n",
      "('lord', 'lannister')\n",
      "312\n",
      "1\n",
      "('lord', 'queen')\n",
      "312\n",
      "1\n",
      "('lord', 'king')\n",
      "312\n",
      "1\n",
      "('tywin', 'lord')\n",
      "62\n",
      "1\n",
      "('tywin', 'tywin')\n",
      "62\n",
      "1\n",
      "('tywin', 'the')\n",
      "62\n",
      "3\n",
      "('tywin', 'great')\n",
      "62\n",
      "1\n",
      "('tywin', 'hound')\n",
      "62\n",
      "1\n",
      "('tywin', 'horse')\n",
      "62\n",
      "1\n",
      "('tywin', 'lannister')\n",
      "62\n",
      "52\n",
      "('tywin', 'queen')\n",
      "62\n",
      "1\n",
      "('tywin', 'king')\n",
      "62\n",
      "1\n",
      "('the', 'lord')\n",
      "1702\n",
      "319\n",
      "('the', 'tywin')\n",
      "1702\n",
      "1\n",
      "('the', 'the')\n",
      "1702\n",
      "1\n",
      "('the', 'great')\n",
      "1702\n",
      "325\n",
      "('the', 'hound')\n",
      "1702\n",
      "191\n",
      "('the', 'horse')\n",
      "1702\n",
      "73\n",
      "('the', 'lannister')\n",
      "1702\n",
      "39\n",
      "('the', 'queen')\n",
      "1702\n",
      "251\n",
      "('the', 'king')\n",
      "1702\n",
      "502\n",
      "('great', 'lord')\n",
      "17\n",
      "7\n",
      "('great', 'tywin')\n",
      "17\n",
      "1\n",
      "('great', 'the')\n",
      "17\n",
      "2\n",
      "('great', 'great')\n",
      "17\n",
      "1\n",
      "('great', 'hound')\n",
      "17\n",
      "1\n",
      "('great', 'horse')\n",
      "17\n",
      "1\n",
      "('great', 'lannister')\n",
      "17\n",
      "1\n",
      "('great', 'queen')\n",
      "17\n",
      "1\n",
      "('great', 'king')\n",
      "17\n",
      "2\n",
      "('hound', 'lord')\n",
      "10\n",
      "1\n",
      "('hound', 'tywin')\n",
      "10\n",
      "1\n",
      "('hound', 'the')\n",
      "10\n",
      "2\n",
      "('hound', 'great')\n",
      "10\n",
      "1\n",
      "('hound', 'hound')\n",
      "10\n",
      "1\n",
      "('hound', 'horse')\n",
      "10\n",
      "1\n",
      "('hound', 'lannister')\n",
      "10\n",
      "1\n",
      "('hound', 'queen')\n",
      "10\n",
      "1\n",
      "('hound', 'king')\n",
      "10\n",
      "1\n",
      "('horse', 'lord')\n",
      "12\n",
      "2\n",
      "('horse', 'tywin')\n",
      "12\n",
      "1\n",
      "('horse', 'the')\n",
      "12\n",
      "3\n",
      "('horse', 'great')\n",
      "12\n",
      "1\n",
      "('horse', 'hound')\n",
      "12\n",
      "1\n",
      "('horse', 'horse')\n",
      "12\n",
      "1\n",
      "('horse', 'lannister')\n",
      "12\n",
      "1\n",
      "('horse', 'queen')\n",
      "12\n",
      "1\n",
      "('horse', 'king')\n",
      "12\n",
      "1\n",
      "('lannister', 'lord')\n",
      "14\n",
      "2\n",
      "('lannister', 'tywin')\n",
      "14\n",
      "1\n",
      "('lannister', 'the')\n",
      "14\n",
      "4\n",
      "('lannister', 'great')\n",
      "14\n",
      "1\n",
      "('lannister', 'hound')\n",
      "14\n",
      "1\n",
      "('lannister', 'horse')\n",
      "14\n",
      "1\n",
      "('lannister', 'lannister')\n",
      "14\n",
      "1\n",
      "('lannister', 'queen')\n",
      "14\n",
      "2\n",
      "('lannister', 'king')\n",
      "14\n",
      "1\n",
      "('queen', 'lord')\n",
      "9\n",
      "1\n",
      "('queen', 'tywin')\n",
      "9\n",
      "1\n",
      "('queen', 'the')\n",
      "9\n",
      "1\n",
      "('queen', 'great')\n",
      "9\n",
      "1\n",
      "('queen', 'hound')\n",
      "9\n",
      "1\n",
      "('queen', 'horse')\n",
      "9\n",
      "1\n",
      "('queen', 'lannister')\n",
      "9\n",
      "1\n",
      "('queen', 'queen')\n",
      "9\n",
      "1\n",
      "('queen', 'king')\n",
      "9\n",
      "1\n",
      "('king', 'lord')\n",
      "12\n",
      "1\n",
      "('king', 'tywin')\n",
      "12\n",
      "1\n",
      "('king', 'the')\n",
      "12\n",
      "4\n",
      "('king', 'great')\n",
      "12\n",
      "1\n",
      "('king', 'hound')\n",
      "12\n",
      "1\n",
      "('king', 'horse')\n",
      "12\n",
      "1\n",
      "('king', 'lannister')\n",
      "12\n",
      "1\n",
      "('king', 'queen')\n",
      "12\n",
      "1\n",
      "('king', 'king')\n",
      "12\n",
      "1\n"
     ]
    }
   ],
   "source": [
    "for i in d_:\n",
    "    print (i)\n",
    "    print (counter[i[0]])\n",
    "    print (d_[i])\n",
    "    d_[i]=d_[i]/counter[i[0]]\n",
    "    d_[i] = round(d_[i],2)"
   ]
  },
  {
   "cell_type": "code",
   "execution_count": 136,
   "metadata": {},
   "outputs": [
    {
     "data": {
      "text/plain": [
       "{('lord', 'lord'): 0.0,\n",
       " ('lord', 'tywin'): 0.97,\n",
       " ('lord', 'the'): 0.0,\n",
       " ('lord', 'great'): 0.01,\n",
       " ('lord', 'hound'): 0.0,\n",
       " ('lord', 'horse'): 0.0,\n",
       " ('lord', 'lannister'): 0.0,\n",
       " ('lord', 'queen'): 0.0,\n",
       " ('lord', 'king'): 0.0,\n",
       " ('tywin', 'lord'): 0.02,\n",
       " ('tywin', 'tywin'): 0.02,\n",
       " ('tywin', 'the'): 0.05,\n",
       " ('tywin', 'great'): 0.02,\n",
       " ('tywin', 'hound'): 0.02,\n",
       " ('tywin', 'horse'): 0.02,\n",
       " ('tywin', 'lannister'): 0.84,\n",
       " ('tywin', 'queen'): 0.02,\n",
       " ('tywin', 'king'): 0.02,\n",
       " ('the', 'lord'): 0.19,\n",
       " ('the', 'tywin'): 0.0,\n",
       " ('the', 'the'): 0.0,\n",
       " ('the', 'great'): 0.19,\n",
       " ('the', 'hound'): 0.11,\n",
       " ('the', 'horse'): 0.04,\n",
       " ('the', 'lannister'): 0.02,\n",
       " ('the', 'queen'): 0.15,\n",
       " ('the', 'king'): 0.29,\n",
       " ('great', 'lord'): 0.41,\n",
       " ('great', 'tywin'): 0.06,\n",
       " ('great', 'the'): 0.12,\n",
       " ('great', 'great'): 0.06,\n",
       " ('great', 'hound'): 0.06,\n",
       " ('great', 'horse'): 0.06,\n",
       " ('great', 'lannister'): 0.06,\n",
       " ('great', 'queen'): 0.06,\n",
       " ('great', 'king'): 0.12,\n",
       " ('hound', 'lord'): 0.1,\n",
       " ('hound', 'tywin'): 0.1,\n",
       " ('hound', 'the'): 0.2,\n",
       " ('hound', 'great'): 0.1,\n",
       " ('hound', 'hound'): 0.1,\n",
       " ('hound', 'horse'): 0.1,\n",
       " ('hound', 'lannister'): 0.1,\n",
       " ('hound', 'queen'): 0.1,\n",
       " ('hound', 'king'): 0.1,\n",
       " ('horse', 'lord'): 0.17,\n",
       " ('horse', 'tywin'): 0.08,\n",
       " ('horse', 'the'): 0.25,\n",
       " ('horse', 'great'): 0.08,\n",
       " ('horse', 'hound'): 0.08,\n",
       " ('horse', 'horse'): 0.08,\n",
       " ('horse', 'lannister'): 0.08,\n",
       " ('horse', 'queen'): 0.08,\n",
       " ('horse', 'king'): 0.08,\n",
       " ('lannister', 'lord'): 0.14,\n",
       " ('lannister', 'tywin'): 0.07,\n",
       " ('lannister', 'the'): 0.29,\n",
       " ('lannister', 'great'): 0.07,\n",
       " ('lannister', 'hound'): 0.07,\n",
       " ('lannister', 'horse'): 0.07,\n",
       " ('lannister', 'lannister'): 0.07,\n",
       " ('lannister', 'queen'): 0.14,\n",
       " ('lannister', 'king'): 0.07,\n",
       " ('queen', 'lord'): 0.11,\n",
       " ('queen', 'tywin'): 0.11,\n",
       " ('queen', 'the'): 0.11,\n",
       " ('queen', 'great'): 0.11,\n",
       " ('queen', 'hound'): 0.11,\n",
       " ('queen', 'horse'): 0.11,\n",
       " ('queen', 'lannister'): 0.11,\n",
       " ('queen', 'queen'): 0.11,\n",
       " ('queen', 'king'): 0.11,\n",
       " ('king', 'lord'): 0.08,\n",
       " ('king', 'tywin'): 0.08,\n",
       " ('king', 'the'): 0.33,\n",
       " ('king', 'great'): 0.08,\n",
       " ('king', 'hound'): 0.08,\n",
       " ('king', 'horse'): 0.08,\n",
       " ('king', 'lannister'): 0.08,\n",
       " ('king', 'queen'): 0.08,\n",
       " ('king', 'king'): 0.08}"
      ]
     },
     "execution_count": 136,
     "metadata": {},
     "output_type": "execute_result"
    }
   ],
   "source": [
    "d_"
   ]
  },
  {
   "cell_type": "code",
   "execution_count": 137,
   "metadata": {},
   "outputs": [],
   "source": [
    "# for i in d_:\n",
    "#     if d_[i]!=0:\n",
    "#         print (d_[i])"
   ]
  },
  {
   "cell_type": "code",
   "execution_count": 138,
   "metadata": {},
   "outputs": [],
   "source": [
    "words = [i[0] for i in d_]"
   ]
  },
  {
   "cell_type": "code",
   "execution_count": 139,
   "metadata": {},
   "outputs": [],
   "source": [
    "unique_words = list(set(words))"
   ]
  },
  {
   "cell_type": "code",
   "execution_count": 140,
   "metadata": {},
   "outputs": [],
   "source": [
    "d = d_\n",
    "d_ = {}\n",
    "for w in unique_words:\n",
    "    second_words = list(set([i[1] for i in d if i[0]==w]))\n",
    "    d__ = {}\n",
    "    for i in second_words:\n",
    "        d__[i] = d[w,i]\n",
    "    d_[w] = d__\n",
    "#     print (w,second_words)\n",
    "    "
   ]
  },
  {
   "cell_type": "code",
   "execution_count": 141,
   "metadata": {},
   "outputs": [],
   "source": [
    "import numpy as np"
   ]
  },
  {
   "cell_type": "code",
   "execution_count": 142,
   "metadata": {},
   "outputs": [
    {
     "data": {
      "text/plain": [
       "{'lannister': {'lannister': 0.07,\n",
       "  'the': 0.29,\n",
       "  'lord': 0.14,\n",
       "  'queen': 0.14,\n",
       "  'great': 0.07,\n",
       "  'hound': 0.07,\n",
       "  'tywin': 0.07,\n",
       "  'horse': 0.07,\n",
       "  'king': 0.07},\n",
       " 'the': {'lannister': 0.02,\n",
       "  'the': 0.0,\n",
       "  'lord': 0.19,\n",
       "  'queen': 0.15,\n",
       "  'great': 0.19,\n",
       "  'hound': 0.11,\n",
       "  'tywin': 0.0,\n",
       "  'horse': 0.04,\n",
       "  'king': 0.29},\n",
       " 'lord': {'lannister': 0.0,\n",
       "  'the': 0.0,\n",
       "  'lord': 0.0,\n",
       "  'queen': 0.0,\n",
       "  'great': 0.01,\n",
       "  'hound': 0.0,\n",
       "  'tywin': 0.97,\n",
       "  'horse': 0.0,\n",
       "  'king': 0.0},\n",
       " 'queen': {'lannister': 0.11,\n",
       "  'the': 0.11,\n",
       "  'lord': 0.11,\n",
       "  'queen': 0.11,\n",
       "  'great': 0.11,\n",
       "  'hound': 0.11,\n",
       "  'tywin': 0.11,\n",
       "  'horse': 0.11,\n",
       "  'king': 0.11},\n",
       " 'great': {'lannister': 0.06,\n",
       "  'the': 0.12,\n",
       "  'lord': 0.41,\n",
       "  'queen': 0.06,\n",
       "  'great': 0.06,\n",
       "  'hound': 0.06,\n",
       "  'tywin': 0.06,\n",
       "  'horse': 0.06,\n",
       "  'king': 0.12},\n",
       " 'hound': {'lannister': 0.1,\n",
       "  'the': 0.2,\n",
       "  'lord': 0.1,\n",
       "  'queen': 0.1,\n",
       "  'great': 0.1,\n",
       "  'hound': 0.1,\n",
       "  'tywin': 0.1,\n",
       "  'horse': 0.1,\n",
       "  'king': 0.1},\n",
       " 'tywin': {'lannister': 0.84,\n",
       "  'the': 0.05,\n",
       "  'lord': 0.02,\n",
       "  'queen': 0.02,\n",
       "  'great': 0.02,\n",
       "  'hound': 0.02,\n",
       "  'tywin': 0.02,\n",
       "  'horse': 0.02,\n",
       "  'king': 0.02},\n",
       " 'horse': {'lannister': 0.08,\n",
       "  'the': 0.25,\n",
       "  'lord': 0.17,\n",
       "  'queen': 0.08,\n",
       "  'great': 0.08,\n",
       "  'hound': 0.08,\n",
       "  'tywin': 0.08,\n",
       "  'horse': 0.08,\n",
       "  'king': 0.08},\n",
       " 'king': {'lannister': 0.08,\n",
       "  'the': 0.33,\n",
       "  'lord': 0.08,\n",
       "  'queen': 0.08,\n",
       "  'great': 0.08,\n",
       "  'hound': 0.08,\n",
       "  'tywin': 0.08,\n",
       "  'horse': 0.08,\n",
       "  'king': 0.08}}"
      ]
     },
     "execution_count": 142,
     "metadata": {},
     "output_type": "execute_result"
    }
   ],
   "source": [
    "d_"
   ]
  },
  {
   "cell_type": "code",
   "execution_count": 143,
   "metadata": {},
   "outputs": [
    {
     "ename": "KeyError",
     "evalue": "'Grand'",
     "output_type": "error",
     "traceback": [
      "\u001b[1;31m---------------------------------------------------------------------------\u001b[0m",
      "\u001b[1;31mKeyError\u001b[0m                                  Traceback (most recent call last)",
      "\u001b[1;32m<ipython-input-143-e0cb4f8e26c3>\u001b[0m in \u001b[0;36m<module>\u001b[1;34m\u001b[0m\n\u001b[1;32m----> 1\u001b[1;33m \u001b[0mnp\u001b[0m\u001b[1;33m.\u001b[0m\u001b[0msum\u001b[0m\u001b[1;33m(\u001b[0m\u001b[0md_\u001b[0m\u001b[1;33m[\u001b[0m\u001b[1;34m'Grand'\u001b[0m\u001b[1;33m]\u001b[0m\u001b[1;33m.\u001b[0m\u001b[0mvalues\u001b[0m\u001b[1;33m(\u001b[0m\u001b[1;33m)\u001b[0m\u001b[1;33m)\u001b[0m\u001b[1;33m\u001b[0m\u001b[1;33m\u001b[0m\u001b[0m\n\u001b[0m",
      "\u001b[1;31mKeyError\u001b[0m: 'Grand'"
     ]
    }
   ],
   "source": [
    "np.sum(d_['Grand'].values())"
   ]
  },
  {
   "cell_type": "code",
   "execution_count": 144,
   "metadata": {},
   "outputs": [],
   "source": [
    "import json"
   ]
  },
  {
   "cell_type": "code",
   "execution_count": 145,
   "metadata": {},
   "outputs": [],
   "source": [
    "dist = json.dumps(d_)"
   ]
  },
  {
   "cell_type": "code",
   "execution_count": 146,
   "metadata": {},
   "outputs": [],
   "source": [
    "f = open(\"trans_mat.json\",'w')\n",
    "f.write(dist)\n",
    "f.close()"
   ]
  },
  {
   "cell_type": "code",
   "execution_count": 150,
   "metadata": {},
   "outputs": [
    {
     "data": {
      "text/plain": [
       "{'lannister': 0.0,\n",
       " 'the': 0.0,\n",
       " 'lord': 0.0,\n",
       " 'queen': 0.0,\n",
       " 'great': 0.01,\n",
       " 'hound': 0.0,\n",
       " 'tywin': 0.97,\n",
       " 'horse': 0.0,\n",
       " 'king': 0.0}"
      ]
     },
     "execution_count": 150,
     "metadata": {},
     "output_type": "execute_result"
    }
   ],
   "source": [
    "d_['lord']"
   ]
  },
  {
   "cell_type": "code",
   "execution_count": 151,
   "metadata": {},
   "outputs": [],
   "source": [
    "pi = {}\n",
    "for i in words:\n",
    "    pi[i] = round(1.0/len(words),2)"
   ]
  },
  {
   "cell_type": "code",
   "execution_count": 152,
   "metadata": {},
   "outputs": [
    {
     "data": {
      "text/plain": [
       "{'lord': 0.01,\n",
       " 'tywin': 0.01,\n",
       " 'the': 0.01,\n",
       " 'great': 0.01,\n",
       " 'hound': 0.01,\n",
       " 'horse': 0.01,\n",
       " 'lannister': 0.01,\n",
       " 'queen': 0.01,\n",
       " 'king': 0.01}"
      ]
     },
     "execution_count": 152,
     "metadata": {},
     "output_type": "execute_result"
    }
   ],
   "source": [
    "pi"
   ]
  },
  {
   "cell_type": "code",
   "execution_count": 153,
   "metadata": {},
   "outputs": [],
   "source": [
    "f = open(\"pi.json\",'w')\n",
    "f.write(dist)\n",
    "f.close()"
   ]
  },
  {
   "cell_type": "code",
   "execution_count": null,
   "metadata": {},
   "outputs": [],
   "source": []
  }
 ],
 "metadata": {
  "kernelspec": {
   "display_name": "Python 3",
   "language": "python",
   "name": "python3"
  },
  "language_info": {
   "codemirror_mode": {
    "name": "ipython",
    "version": 3
   },
   "file_extension": ".py",
   "mimetype": "text/x-python",
   "name": "python",
   "nbconvert_exporter": "python",
   "pygments_lexer": "ipython3",
   "version": "3.7.3"
  }
 },
 "nbformat": 4,
 "nbformat_minor": 2
}
